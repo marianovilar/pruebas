{
 "cells": [
  {
   "cell_type": "code",
   "execution_count": 1,
   "id": "5f77fe93-74ee-4fed-8f9a-55612c5df3ff",
   "metadata": {
    "tags": []
   },
   "outputs": [
    {
     "name": "stdout",
     "output_type": "stream",
     "text": [
      "mariano vilar\n"
     ]
    }
   ],
   "source": [
    "n=\"mariano\"\n",
    "a=\"vilar\"\n",
    "print(n, a)"
   ]
  },
  {
   "cell_type": "raw",
   "id": "25d56c02-a5c7-458c-b4e3-e5f197c68e22",
   "metadata": {},
   "source": [
    "Este archivo fue creado por Mariano Vilar para compartir a modo de prueba con GitHUB"
   ]
  }
 ],
 "metadata": {
  "kernelspec": {
   "display_name": "Python 3 (ipykernel)",
   "language": "python",
   "name": "python3"
  },
  "language_info": {
   "codemirror_mode": {
    "name": "ipython",
    "version": 3
   },
   "file_extension": ".py",
   "mimetype": "text/x-python",
   "name": "python",
   "nbconvert_exporter": "python",
   "pygments_lexer": "ipython3",
   "version": "3.11.3"
  }
 },
 "nbformat": 4,
 "nbformat_minor": 5
}
